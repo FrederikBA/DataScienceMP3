{
 "cells": [
  {
   "cell_type": "code",
   "execution_count": null,
   "id": "2f65f9e0",
   "metadata": {},
   "outputs": [],
   "source": [
    "import pandas as pd\n",
    "import requests\n",
    "from bs4 import BeautifulSoup\n",
    "import spacy\n",
    "\n",
    "import nltk\n",
    "nltk.download('stopwords')\n",
    "from nltk.tokenize import word_tokenize\n",
    "\n",
    "df = pd.read_csv('data/companies.csv')\n",
    "\n",
    "df"
   ]
  },
  {
   "cell_type": "code",
   "execution_count": null,
   "id": "247e6c39",
   "metadata": {},
   "outputs": [],
   "source": [
    "url = \"https://dk.trustpilot.com/review/www.kmd.dk\"\n",
    "response = requests.get(url)\n",
    "soup = BeautifulSoup(response.content, \"html.parser\")\n",
    "\n",
    "\n",
    "header = soup.find(\"h2\", {\"typography_heading-s__f7029 typography_appearance-default__AAY17\"})\n",
    "text = header.text\n",
    "\n",
    "\n",
    "body = soup.find(\"p\", {\"typography_body-l__KUYFJ typography_appearance-default__AAY17 typography_color-black__5LYEn\"})\n",
    "bodyText = body.text\n",
    "\n",
    "print(text)\n",
    "print(bodyText)"
   ]
  },
  {
   "cell_type": "code",
   "execution_count": null,
   "id": "2969ceac",
   "metadata": {},
   "outputs": [],
   "source": [
    "url = \"https://dk.trustpilot.com/review/www.kmd.dk\"\n",
    "response = requests.get(url)\n",
    "soup = BeautifulSoup(response.content, \"html.parser\")\n",
    "\n",
    "review_divs = soup.find_all(\"div\", {\"class\": \"styles_cardWrapper__LcCPA styles_show__HUXRb styles_reviewCard__9HxJJ\"})\n",
    "\n",
    "reviews = []\n",
    "\n",
    "for div in review_divs:\n",
    "    review_title = div.find(\"h2\", {\"class\": \"review-title\"})\n",
    "    \n",
    "    # Find the first p tag within the div\n",
    "    review_paragraph = div.find(\"p\")\n",
    "    reviews.append(review_paragraph.text)\n",
    "    \n",
    "print(reviews[1])"
   ]
  },
  {
   "cell_type": "code",
   "execution_count": null,
   "id": "ee34f7fc",
   "metadata": {},
   "outputs": [],
   "source": [
    "def proprocess(text):\n",
    "    processed_text = \"\"\n",
    "    return processed_text\n",
    "    "
   ]
  },
  {
   "cell_type": "markdown",
   "id": "e6c3b8ef",
   "metadata": {},
   "source": [
    "## Preprocessing"
   ]
  },
  {
   "cell_type": "markdown",
   "id": "cfe244f9",
   "metadata": {},
   "source": [
    "### Tokenization"
   ]
  },
  {
   "cell_type": "code",
   "execution_count": null,
   "id": "d03169fa",
   "metadata": {},
   "outputs": [],
   "source": [
    "from nltk.corpus import stopwords\n",
    "\n",
    "\n",
    "nlp = spacy.load(\"da_core_news_sm\")\n",
    "\n",
    "stop_words = set(stopwords.words('danish'))\n",
    "\n",
    "#Tokenization and removing the stop words from every review in the loop\n",
    "for i in reviews:\n",
    "    tokens = word_tokenize(i)\n",
    "    doc = nlp(i)\n",
    "    filtered_tokens = [token for token in tokens if token.lower() not in stop_words]"
   ]
  },
  {
   "cell_type": "code",
   "execution_count": null,
   "id": "644540c6",
   "metadata": {},
   "outputs": [],
   "source": [
    "for review in reviews: \n",
    "    doc = nlp(review)\n",
    "\n",
    "    print(\"Verbs:\", [token.lemma_ for token in doc if token.pos_ == \"VERB\"])\n",
    "\n",
    "    # Get nouns\n",
    "    print(\"Noun phrases:\", [chunk.text for chunk in doc.noun_chunks])\n",
    "\n",
    "    # Find named entities, phrases and concepts\n",
    "    for entity in doc.ents:\n",
    "        print(entity.text, entity.label_)"
   ]
  },
  {
   "cell_type": "markdown",
   "id": "78a5f8c6",
   "metadata": {},
   "source": [
    "### Lemmatization"
   ]
  },
  {
   "cell_type": "code",
   "execution_count": null,
   "id": "a44bcc3f",
   "metadata": {},
   "outputs": [],
   "source": [
    "for review in reviews: \n",
    "    doc = nlp(review)\n",
    "    #Lemmatization to get the root meaning of the word.\n",
    "\n",
    "    # Lemmatize the tokens\n",
    "    lemmas = [token.lemma_ for token in doc if not token.is_stop]\n",
    "\n",
    "    tokens_lower = [token.lower() for token in tokens]\n",
    "    lemmas_lower = [lemma.lower() for lemma in lemmas]\n",
    "\n",
    "    print(tokens_lower)\n",
    "    print(\"\\n\")\n",
    "    print(lemmas_lower)"
   ]
  },
  {
   "cell_type": "markdown",
   "id": "06d0148d",
   "metadata": {},
   "source": [
    "### Model?"
   ]
  },
  {
   "cell_type": "code",
   "execution_count": null,
   "id": "d5c14b76",
   "metadata": {
    "scrolled": true
   },
   "outputs": [],
   "source": [
    "import spacy\n",
    "from spacy.lang.da.stop_words import STOP_WORDS\n",
    "import csv\n",
    "\n",
    "# Load the Danish language model\n",
    "nlp = spacy.load(\"da_core_news_sm\")\n",
    "\n",
    "# Load the DSL lexicon\n",
    "dsl_lexicon = {}\n",
    "with open('data/2_headword_headword_polarity.csv', encoding='utf-8') as f:\n",
    "    reader = csv.reader(f)\n",
    "    for row in reader:\n",
    "        lemma, polarity = row[0], float(row[4])\n",
    "        dsl_lexicon[lemma] = polarity\n",
    "\n",
    "# Define a function to classify a review as positive, negative or neutral\n",
    "def classify_review(review):\n",
    "    # Perform segmentation\n",
    "    doc = nlp(review)\n",
    "    \n",
    "    # Tokenize and remove stop words\n",
    "    tokens = [token.lemma_.lower() for token in doc if not token.is_stop]\n",
    "    print(tokens)\n",
    "    \n",
    "    # Calculate the sentiment score of the review\n",
    "    sentiment_score = sum([float(dsl_lexicon.get(token, 0)) for token in tokens])\n",
    "    print(sentiment_score)\n",
    "    \n",
    "    # Classify the review based on the sentiment score\n",
    "    if sentiment_score > 0:\n",
    "        return \"positive\"\n",
    "    elif sentiment_score < 0:\n",
    "        return \"negative\"\n",
    "    else:\n",
    "        return \"neutral\"\n",
    "\n",
    "# Test the function with a list of sample reviews\n",
    "for review in reviews:\n",
    "    classification = classify_review(review)\n",
    "    print(classification)\n",
    "    print(f'{review} \\n ')\n",
    "    \n"
   ]
  },
  {
   "cell_type": "code",
   "execution_count": null,
   "id": "c4ca50d3",
   "metadata": {},
   "outputs": [],
   "source": [
    "def check_word_polarity():\n",
    "    # Load the DSL lexicon from the CSV file\n",
    "    dsl_lexicon = {}\n",
    "    with open('data/2_headword_headword_polarity.csv', encoding='utf-8') as f:\n",
    "        reader = csv.reader(f)\n",
    "        for row in reader:\n",
    "            lemma, polarity = row[0], float(row[4])\n",
    "            dsl_lexicon[lemma] = polarity\n",
    "\n",
    "    # Test the lexicon by printing the polarity score of a few words\n",
    "    print(dsl_lexicon.get(\"løn\", 0))\n",
    "    print(dsl_lexicon.get(\"stjerne\", 0))\n",
    "    \n",
    "check_word_polarity()"
   ]
  },
  {
   "cell_type": "code",
   "execution_count": null,
   "id": "69749350",
   "metadata": {},
   "outputs": [],
   "source": []
  }
 ],
 "metadata": {
  "kernelspec": {
   "display_name": "Python 3 (ipykernel)",
   "language": "python",
   "name": "python3"
  },
  "language_info": {
   "codemirror_mode": {
    "name": "ipython",
    "version": 3
   },
   "file_extension": ".py",
   "mimetype": "text/x-python",
   "name": "python",
   "nbconvert_exporter": "python",
   "pygments_lexer": "ipython3",
   "version": "3.10.10"
  }
 },
 "nbformat": 4,
 "nbformat_minor": 5
}
