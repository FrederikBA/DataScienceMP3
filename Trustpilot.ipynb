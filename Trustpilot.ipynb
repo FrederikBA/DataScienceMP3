{
 "cells": [
  {
   "cell_type": "code",
   "execution_count": 84,
   "id": "2f65f9e0",
   "metadata": {},
   "outputs": [],
   "source": [
    "import pandas as pd\n",
    "import requests\n",
    "from bs4 import BeautifulSoup\n",
    "import spacy\n",
    "import csv"
   ]
  },
  {
   "cell_type": "code",
   "execution_count": 85,
   "id": "2969ceac",
   "metadata": {},
   "outputs": [
    {
     "name": "stdout",
     "output_type": "stream",
     "text": [
      "Jeg er desværre daglig bruger af KMD grundet mit arbejde. Det er helt vildt så dårlig KMD systemer fungerer. Der er ret mange basale ting der ikke fungerer, så som at man ikke kan kopier cpr nr. ind fra regneark ind i søgefeltet, og hver gang der kommer en opdatering bortfalder der vigtige funktioner. Det er som om de bare prøver at gøre det dårligere og dårligere. Ganske enkelt talentløst!\n"
     ]
    }
   ],
   "source": [
    "url = \"https://dk.trustpilot.com/review/www.kmd.dk\"\n",
    "response = requests.get(url)\n",
    "soup = BeautifulSoup(response.content, \"html.parser\")\n",
    "\n",
    "review_divs = soup.find_all(\"div\", {\"class\": \"styles_cardWrapper__LcCPA styles_show__HUXRb styles_reviewCard__9HxJJ\"})\n",
    "\n",
    "reviews = []\n",
    "\n",
    "for div in review_divs:\n",
    "    review_title = div.find(\"h2\", {\"class\": \"review-title\"})\n",
    "    \n",
    "    # Find the first p tag within the div\n",
    "    review_paragraph = div.find(\"p\")\n",
    "    reviews.append(review_paragraph.text)\n",
    "    \n",
    "print(reviews[1])"
   ]
  },
  {
   "cell_type": "markdown",
   "id": "e6c3b8ef",
   "metadata": {},
   "source": [
    "## Preprocessing"
   ]
  },
  {
   "cell_type": "code",
   "execution_count": 86,
   "id": "4afa5360",
   "metadata": {},
   "outputs": [],
   "source": [
    "# Load danish tokenizer\n",
    "nlp = spacy.load(\"da_core_news_sm\")"
   ]
  },
  {
   "cell_type": "code",
   "execution_count": 87,
   "id": "ee34f7fc",
   "metadata": {},
   "outputs": [],
   "source": [
    "def preprocess_text(text):\n",
    "    \n",
    "    # Tokenize the text and remove stop words and punctuation\n",
    "    doc = nlp(text)\n",
    "    tokens = [token.lemma_.lower() for token in doc if not token.is_stop and not token.is_punct]\n",
    "\n",
    "    return tokens "
   ]
  },
  {
   "cell_type": "code",
   "execution_count": 88,
   "id": "f000b4a6",
   "metadata": {},
   "outputs": [
    {
     "name": "stdout",
     "output_type": "stream",
     "text": [
      "['600', 'menneske', 'middelfart', 'kommune', 'få', 'udbetale', 'ydelse', 'går', 'grunde', 'teknisk', 'fejl', 'kmd', 'side', 'betyde', 'modtage', 'rykkere', 'eventuelt', 'risikere', 'diverse', 'ret', 'ubehagelig', 'oplevelse', 'grund', 'få', 'ydelse', 'betale', 'regninger', 'dag', '1', 'november', 'ydelse', 'fortsat', 'komme', 'fuldstændigt', 'uacceptabel', 'kmd', 'tænke', 'hæfte', 'rykkere', 'nej', 'vel']\n"
     ]
    }
   ],
   "source": [
    "print(preprocess_text(reviews[0]))"
   ]
  },
  {
   "cell_type": "markdown",
   "id": "06d0148d",
   "metadata": {},
   "source": [
    "### Sentiment Analysis"
   ]
  },
  {
   "cell_type": "code",
   "execution_count": 89,
   "id": "d5c14b76",
   "metadata": {
    "scrolled": true
   },
   "outputs": [
    {
     "name": "stdout",
     "output_type": "stream",
     "text": [
      "-6.0\n",
      "negative\n",
      "Over 600 mennesker i Middelfart kommune har ikke fået udbetalt deres ydelse i går grundet en teknisk fejl fra KMDs side.Dette betyder de vil modtage rykkere, og eventuelt risikere diverse ret så ubehagelige oplevelser på grund af de ikke har fået deres ydelse og hermed ikke kan betale deres regninger.Det er i dag den 1 November og deres ydelse er fortsat ikke kommet. Fuldstændigt uacceptabelt.Har KMD tænkt sig at hæfte for rykkere? Nej vel. \n",
      " \n",
      "-1.0\n",
      "negative\n",
      "Jeg er desværre daglig bruger af KMD grundet mit arbejde. Det er helt vildt så dårlig KMD systemer fungerer. Der er ret mange basale ting der ikke fungerer, så som at man ikke kan kopier cpr nr. ind fra regneark ind i søgefeltet, og hver gang der kommer en opdatering bortfalder der vigtige funktioner. Det er som om de bare prøver at gøre det dårligere og dårligere. Ganske enkelt talentløst! \n",
      " \n",
      "-4.0\n",
      "negative\n",
      "Urimelig behandling - KMD står for at lave hjemmeside til nemrefusion - hjemmeside virker ikke igen. Skriver flere mails - ringer og ringer; men der er ikke nogen på kontoret der ønsker at svare på den ene eller anden måde. Urimelig dårlig service. \n",
      " \n",
      "0.0\n",
      "neutral\n",
      "De tager ikke deres sikkerhed alvorligt. De har i 12 år haft et sikkerhedshul hvor man kunne udtrække personfølsomme oplysninger fra et af deres systemer. De bliver så gjort opmærksomme på dette sikkerhedshul og i stedet for at takke og så koncentrere sig om at lukke hullet.. så bruger de tid på at jagte budbringeren.Det har de gjort ved at politianmelde IT-konsulenten der fandt hullet. Det er efter min mening en forkastelig optræden.Dokumentation kan findes på dr.dk blandt mange andre nyhedssider. \n",
      " \n",
      "5.0\n",
      "positive\n",
      "Havde givet 0 stjerner hvis man kunne. De regner med dagsfradag som om man var på efterløn, så man ender med at betale for meget i skat hver måned. De mener at de gør det \"rigtige\" i følge skat, selvom skat aldrig har hørt om det før og synes det lyder komplet åndssvagt. Skriver man til dem for at få hjæp får man ikke svar, ringer man derimod til dem kan man heller ikke få svar. Man kan kun få fat på en receptionist som ikke kan svare på noget, og som heller ikke må videre stille ved mindre du kan personens fulde navn (der er heller ikke en personaleliste på deres hjemmeside).Til sidst er deres løn app, den kan man kun komme ind på hver 10 gang man prøver, ellers bliver man mødt af diverse server/ hjemmeside fejl \n",
      " \n",
      "3.0\n",
      "positive\n",
      "Goddaw KMD. Jeg har en lerdue at plukke med jer. Jeg har nemlig lagt min kommune-data i jeres skrøbelige hænder. Men hvad skete der så? Min kommune-data blev til lands-data, fordi i er nogle damn snitches. I burde investere i nogle lidt mere sikre harddisks. Min grandfætter arbejder i Silvan, han kan hooke jer op. (Med lidt af hvert) Håber I finder ud af det med dataen. 7-9-13 for det (Hvis I forstår sådan en lille en) (Hvis I ikke forstår sådan en lille en mente jeg EFI) (I ved det der skattesystem, man får ondt i milten af at tænke på)Hav en god daaaaag \n",
      " \n",
      "-9.0\n",
      "negative\n",
      "Inkompetente fjolser. Betale en bøde på 20 kr gennem mobilepay er urimeligt besværligt i en regn af fejlsider. Der skal vist fyres et par programmører. Hep! \n",
      " \n",
      "1.0\n",
      "positive\n",
      "jeg har ventede i telefonen i mere end 40 minutter for at komme igennem til nem refusion som KMD administrere (jeg kom aldrig igennem) \n",
      " \n",
      "4.0\n",
      "positive\n",
      "Det er helt ude i hampen, at KMD politianmelder en it-kyndig (Esben Warming - som jeg i øvrigt ikke kender, men har hørt om i Radio 24syv), som påpeger et sikkerhedshul (som også er helt ude i hampen i den forstand at det er helt amatøragtigt at lave en så alvorlig og basal fejl) i en af KMD's web-applikationer.Den eneste seriøse reaktion fra KMD ville være at sige undskyld til os alle og tak for hjælpen, og evt have forgyldt ham for at have reduceret risikoen for den helt store skandale for KMD - tænk hvis det en dag viste sig, at kriminelle eller en fjendtlig efterretningstjeneste havde høstet alle danske CPR-numre og relaterede data (hvad-ved-jeg).Direktøren for KMD er tydeligvis inkompetent og/eller paranoid. Under alle omstændigheder ikke for kvik...Ok, så får jeg sikkert en politianmeldelse på halsen for denne anmeldelse, hvis stilen skal holdes fra KMD's side... \n",
      " \n",
      "-2.0\n",
      "negative\n",
      "Det er pinligt at der ikke findes professionelle folk ansat i dette firma som kan taste korrekte data ! Inkompetent er blot fornavnet på disse personager !! \n",
      " \n",
      "2.0\n",
      "positive\n",
      "Tager ikke deres sikkerhed alvorligt, og virker generelt som et firma styret af små børn. Ingen selvindsigt. \n",
      " \n",
      "0.0\n",
      "neutral\n",
      "Et helt igennem dårligt firma, der på ingen måde magter deres opgaver. \n",
      " \n",
      "11.0\n",
      "positive\n",
      "Vi bruger KMD produkter fra vugge til grav. Derfor har de fleste af os været i berøring med KMD eller Kommunedata, som det hed i gamle dage. Der har været mange problemstillinger, som virksomheden ikke har løst helt smart - ja flere, som er løst dårligt eller slet ikke. Seneste skud på rækken af fejlhåndteringer er, at KMD er taget med bukserne nede. Pladsanvisningssystemet viser sig gennem en lang årrække at være en CPR-søgemaskine således, at man kan indtaste et CPR-nummer manuelt eller maskinelt og modtage navn på den person, der har netop dette CPR-nummer. En vaks borger har heldigvis haft kendskab til it-sikkerhed, så han straks følte, at HER var et problem. Han checker så systemet, dokumenterer sine fund og overbringer denne - for KMD - nye viden til sin hjemkommune, Frederiksberg, der som så mange andre kommuner er abonnent på systemet. KMD skulle, som Google, Appel, Microsoft og alle de andre professionelle virksomheder ville have gjort, have modtaget info om et sikkerhedsbrud med åbne arme. KMD skulle have belønnet den vakse bruger for at finde frem til dette kæmpeproblem, som KMD selv ikke har haft evner til at teste sig frem til. Skam få KMD - også i denne sag. Jeg forstår, at Datatilsynet pusler med den model, at det er de abonnerende kommuner, der skal klandres for ikke at have sikret sig, at leverencen fra KMD var sikkerhedsmæssigt i orden. Jamen i så fald, skam på datatilsynet. En leverandør skal selvfølgelig stå inde for, at koden er i orden - ikke kun funktionelt, men også sikkerhedsmæssigt. Derfor kun en stjerne - med pil nedad. \n",
      " \n",
      "-1.0\n",
      "negative\n",
      "KMD's vagtplan er helt ekstrem dårligt \n",
      " \n",
      "0.0\n",
      "neutral\n",
      "Dato for oplevelse: 16. maj 2019 \n",
      " \n"
     ]
    }
   ],
   "source": [
    "# Load the DSL lexicon\n",
    "dsl_lexicon = {}\n",
    "with open('data/2_headword_headword_polarity.csv', encoding='utf-8') as f:\n",
    "    reader = csv.reader(f)\n",
    "    for row in reader:\n",
    "        lemma, polarity = row[0], float(row[4])\n",
    "        dsl_lexicon[lemma] = polarity\n",
    "\n",
    "# Define a function to classify a review as positive, negative or neutral\n",
    "def classify_review(review):\n",
    "    tokens = preprocess_text(review)\n",
    "        \n",
    "    # Calculate the sentiment score of the review\n",
    "    sentiment_score = sum([float(dsl_lexicon.get(token, 0)) for token in tokens])\n",
    "    print(sentiment_score)\n",
    "    \n",
    "    # Classify the review based on the sentiment score\n",
    "    if sentiment_score > 0:\n",
    "        return \"positive\"\n",
    "    elif sentiment_score < 0:\n",
    "        return \"negative\"\n",
    "    else:\n",
    "        return \"neutral\"\n",
    "\n",
    "# Test the function with a list of sample reviews\n",
    "for review in reviews:\n",
    "    classification = classify_review(review)\n",
    "    print(classification)\n",
    "    print(f'{review} \\n ')\n",
    "    \n"
   ]
  },
  {
   "cell_type": "code",
   "execution_count": 36,
   "id": "c4ca50d3",
   "metadata": {},
   "outputs": [
    {
     "name": "stdout",
     "output_type": "stream",
     "text": [
      "2.0\n",
      "3.0\n"
     ]
    }
   ],
   "source": [
    "def check_word_polarity():\n",
    "    # Load the DSL lexicon from the CSV file\n",
    "    dsl_lexicon = {}\n",
    "    with open('data/2_headword_headword_polarity.csv', encoding='utf-8') as f:\n",
    "        reader = csv.reader(f)\n",
    "        for row in reader:\n",
    "            lemma, polarity = row[0], float(row[4])\n",
    "            dsl_lexicon[lemma] = polarity\n",
    "\n",
    "    # Test the lexicon by printing the polarity score of a few words\n",
    "    print(dsl_lexicon.get(\"løn\", 0))\n",
    "    print(dsl_lexicon.get(\"stjerne\", 0))\n",
    "    \n",
    "check_word_polarity()"
   ]
  }
 ],
 "metadata": {
  "kernelspec": {
   "display_name": "Python 3 (ipykernel)",
   "language": "python",
   "name": "python3"
  },
  "language_info": {
   "codemirror_mode": {
    "name": "ipython",
    "version": 3
   },
   "file_extension": ".py",
   "mimetype": "text/x-python",
   "name": "python",
   "nbconvert_exporter": "python",
   "pygments_lexer": "ipython3",
   "version": "3.9.13"
  }
 },
 "nbformat": 4,
 "nbformat_minor": 5
}
